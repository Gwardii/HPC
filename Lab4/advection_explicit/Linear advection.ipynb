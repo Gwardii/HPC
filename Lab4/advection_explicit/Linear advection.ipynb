{
 "cells": [
  {
   "cell_type": "code",
   "execution_count": null,
   "id": "7ff913bd",
   "metadata": {},
   "outputs": [],
   "source": [
    "import numpy as np\n",
    "from matplotlib import pyplot as plt"
   ]
  },
  {
   "cell_type": "markdown",
   "id": "662c0151",
   "metadata": {},
   "source": [
    "# Linear advection problem\n",
    "Here we try to solve a simple linear advection problem, with periodic boundary conditions and an initial condition in a form of a bump.\n",
    "\n",
    "$$\n",
    "\\frac{\\partial u}{\\partial t} + c \\frac{\\partial u}{\\partial x} = 0\\\\\n",
    "u(0) = u(1)\\\\\n",
    "u(0,x) = u_0(x)\n",
    "$$\n",
    "\n",
    "While simple, this is a difficult problem to solve numerically (!).\n",
    "\n",
    "We will use first order, forward difference for the time derivative:\n",
    "$$\n",
    "\\frac{\\partial u}{\\partial t} \\approx \\frac{u^{k+1}_i-u^{k}_i}{dt}\n",
    "$$\n",
    "\n",
    "and one of many available FD formulation for the $\\frac{\\partial u}{\\partial x}$.\n",
    "1. First order, forward - bad idea, unstable\n",
    "2. First order, backward - for upwinding, better idea - dissipative\n",
    "3. Second order, central - unstable\n",
    "4. Second order, backward- \n",
    "    * $\\frac{\\partial u}{\\partial x} = \\frac{1}{2h} (3u_i-4u_{i-1}+u_{i-2})$\n",
    "    \n",
    "## Explicit"
   ]
  },
  {
   "cell_type": "code",
   "execution_count": null,
   "id": "ed234dd0",
   "metadata": {},
   "outputs": [],
   "source": [
    "nx = 101\n",
    "nt = 1000\n",
    "c = 1.0\n",
    "dx = 1.0 / ( nx - 1 )\n",
    "dt = 1.0 / nt\n",
    "t = 0\n",
    "x = np.linspace ( 0.0, 1.0, nx )\n",
    "u = np.zeros ( nx )\n",
    "unew = np.zeros ( nx )\n",
    "\n",
    "def smooth():\n",
    "    for i in range ( 0, nx ):\n",
    "        if ( 0.4 <= x[i] and x[i] <= 0.6 ):\n",
    "            u[i] = 0.5*(-np.cos(10*np.pi*x[i])+1)\n",
    "\n",
    "def init():\n",
    "    smooth()\n",
    "\n",
    "def euler_fd_1(j):\n",
    "    t=j*dt\n",
    "    for i in range ( 0, nx ):\n",
    "        j = i+1\n",
    "        if j == nx : j=0\n",
    "        unew[i] = u[i] - c*dt/dx * ( u[j] - u[i])\n",
    "    for i in range ( 0, nx ):\n",
    "        u[i] = unew[i]\n",
    "        \n",
    "def euler_bd_1(j):\n",
    "    t=j*dt\n",
    "    for i in range ( 0, nx ):\n",
    "        unew[i] = u[i] - c*dt/dx * ( u[i] - u[i-1])\n",
    "    for i in range ( 0, nx ):\n",
    "        u[i] = unew[i]\n",
    "        \n",
    "def euler_cn_2(j):\n",
    "    t=j*dt\n",
    "    for i in range ( 0, nx ):\n",
    "        j = i+1\n",
    "        if j == nx : j=0\n",
    "        unew[i] = u[i] - 0.5*c*dt/dx * ( u[j] - u[i-1])\n",
    "    for i in range ( 0, nx ):\n",
    "        u[i] = unew[i]\n",
    "        \n",
    "def euler_bd_2(j):\n",
    "    t=j*dt\n",
    "    for i in range ( 0, nx ):\n",
    "        unew[i] = u[i] - 0.5*c*dt/dx * ( 3*u[i] - 4*u[i-1] + u[i-2])\n",
    "    for i in range ( 0, nx ):\n",
    "        u[i] = unew[i]"
   ]
  },
  {
   "cell_type": "code",
   "execution_count": null,
   "id": "02ad4f71",
   "metadata": {},
   "outputs": [],
   "source": [
    "u = np.zeros ( nx )\n",
    "unew = np.zeros ( nx )\n",
    "init()\n",
    "fig = plt.figure()\n",
    "plt.axes(xlim=(0, 1), ylim=(-2, 2))\n",
    "plt.plot(x, u, lw=2)"
   ]
  },
  {
   "cell_type": "code",
   "execution_count": null,
   "id": "5b0069c7",
   "metadata": {},
   "outputs": [],
   "source": [
    "for i in range(0,100):\n",
    "    euler_cn_2(i)\n",
    "fig = plt.figure()\n",
    "plt.axes(xlim=(0, 1), ylim=(-2, 2))\n",
    "plt.plot(x, u, lw=2)"
   ]
  },
  {
   "cell_type": "markdown",
   "id": "7f2340af",
   "metadata": {},
   "source": [
    "## Implicit\n",
    "might provide some needed stability"
   ]
  },
  {
   "cell_type": "code",
   "execution_count": 161,
   "id": "9dc0cd52",
   "metadata": {},
   "outputs": [],
   "source": [
    "import numpy as np\n",
    "from matplotlib import pyplot as plt\n",
    "from scipy.sparse import diags\n",
    "from scipy.sparse.linalg import spsolve\n",
    "\n",
    "nx = 101\n",
    "nt = 1000\n",
    "c = 1.0\n",
    "dx = 1.0 / ( nx - 1 )\n",
    "dt = 1.0 / nt\n",
    "t = 0\n",
    "x = np.linspace ( 0.0, 1.0, nx )\n",
    "u = np.zeros ( nx )\n",
    "unew = np.zeros ( nx )\n",
    "\n",
    "c1 = c * dt / (2*dx)\n",
    "a=np.full(nx,1)\n",
    "bu=np.full(nx-1,c1)\n",
    "bd=np.full(nx-1,-c1)\n",
    "mat=diags([a,bu,bd], [0,1,-1])\n",
    "mat=mat.toarray()\n",
    "\n",
    "#Initial conditions\n",
    "def smooth():\n",
    "    for i in range ( 0, nx ):\n",
    "        if ( 0.4 <= x[i] and x[i] <= 0.6 ):\n",
    "            u[i] = 0.5*(-np.cos(10*np.pi*x[i])+1)\n",
    "    return u\n",
    "\n",
    "def init():\n",
    "    smooth()\n",
    "\n",
    "def euler_cn_2(j):\n",
    "    t=j*dt\n",
    "    mat[0,-1]=-c1\n",
    "    mat[-1,0]=c1\n",
    "    unew = spsolve(mat, u)\n",
    "    for i in range ( 0, nx ):\n",
    "        u[i] = unew[i]"
   ]
  },
  {
   "cell_type": "code",
   "execution_count": 165,
   "id": "3cf4c3b8",
   "metadata": {},
   "outputs": [
    {
     "name": "stdout",
     "output_type": "stream",
     "text": [
      "[[ 1.    0.05  0.   ...  0.    0.   -0.05]\n",
      " [-0.05  1.    0.05 ...  0.    0.    0.  ]\n",
      " [ 0.   -0.05  1.   ...  0.    0.    0.  ]\n",
      " ...\n",
      " [ 0.    0.    0.   ...  1.    0.05  0.  ]\n",
      " [ 0.    0.    0.   ... -0.05  1.    0.05]\n",
      " [ 0.05  0.    0.   ...  0.   -0.05  1.  ]]\n"
     ]
    }
   ],
   "source": [
    "print(mat)"
   ]
  },
  {
   "cell_type": "code",
   "execution_count": 163,
   "id": "0f1d1cff",
   "metadata": {},
   "outputs": [
    {
     "data": {
      "text/plain": [
       "[<matplotlib.lines.Line2D at 0x7fcd2eafc7f0>]"
      ]
     },
     "execution_count": 163,
     "metadata": {},
     "output_type": "execute_result"
    },
    {
     "data": {
      "image/png": "[encoded data removed]",
      "text/plain": [
       "<Figure size 640x480 with 1 Axes>"
      ]
     },
     "metadata": {},
     "output_type": "display_data"
    }
   ],
   "source": [
    "u = np.zeros ( nx )\n",
    "unew = np.zeros ( nx )\n",
    "init()\n",
    "fig = plt.figure()\n",
    "plt.axes(xlim=(0, 1), ylim=(-2, 2))\n",
    "plt.plot(x, u, lw=2)"
   ]
  },
  {
   "cell_type": "code",
   "execution_count": 164,
   "id": "36ffd68b",
   "metadata": {},
   "outputs": [
    {
     "name": "stderr",
     "output_type": "stream",
     "text": [
      "/home/sgepner/Virtualenv/jupyter/lib/python3.10/site-packages/scipy/sparse/linalg/_dsolve/linsolve.py:168: SparseEfficiencyWarning: spsolve requires A be CSC or CSR matrix format\n",
      "  warn('spsolve requires A be CSC or CSR matrix format',\n"
     ]
    },
    {
     "data": {
      "text/plain": [
       "[<matplotlib.lines.Line2D at 0x7fcd2eb53790>]"
      ]
     },
     "execution_count": 164,
     "metadata": {},
     "output_type": "execute_result"
    },
    {
     "data": {
      "image/png": "[encoded data removed]",
      "text/plain": [
       "<Figure size 640x480 with 1 Axes>"
      ]
     },
     "metadata": {},
     "output_type": "display_data"
    }
   ],
   "source": [
    "for i in range(0,100):\n",
    "    euler_cn_2(i)\n",
    "fig = plt.figure()\n",
    "plt.axes(xlim=(0, 1), ylim=(-2, 2))\n",
    "plt.plot(x, u, lw=2)"
   ]
  },
  {
   "cell_type": "code",
   "execution_count": 145,
   "id": "e210965a",
   "metadata": {},
   "outputs": [],
   "source": [
    "from numpy import array, zeros, diag, diagflat, dot\n",
    "\n",
    "def Jacobi(A, b, N, y, eps = 1e-6):\n",
    "    # (1) Create a vector using the diagonal elemts of A\n",
    "    D = diag(A)\n",
    "    # (2) Subtract D vector from A into the new vector R\n",
    "    R = A - diagflat(D)\n",
    "    # (3) We must Iterate for N times                                                                                                                                                                          \n",
    "    for i in range(N):\n",
    "        yn = (b - dot(R,y)) / D\n",
    "        if np.linalg.norm(np.abs(y-yn)) < eps:\n",
    "            y = yn\n",
    "#             print('Converged in', i)\n",
    "            return y\n",
    "        y = yn\n",
    "        \n",
    "    raise Exception('Jacobi did not converge!')"
   ]
  },
  {
   "cell_type": "code",
   "execution_count": 146,
   "id": "7d8c94ff",
   "metadata": {},
   "outputs": [],
   "source": [
    "def euler_cn_2(j):\n",
    "    t=j*dt\n",
    "    mat[0,-1]=-c1\n",
    "    mat[-1,0]=c1\n",
    "    unew = Jacobi(mat, u, 100, u)\n",
    "    for i in range ( 0, nx ):\n",
    "        u[i] = unew[i]"
   ]
  },
  {
   "cell_type": "code",
   "execution_count": 147,
   "id": "41fa47dc",
   "metadata": {},
   "outputs": [
    {
     "data": {
      "text/plain": [
       "[<matplotlib.lines.Line2D at 0x7fcd2f24bc40>]"
      ]
     },
     "execution_count": 147,
     "metadata": {},
     "output_type": "execute_result"
    },
    {
     "data": {
      "image/png": "[encoded data removed]",
      "text/plain": [
       "<Figure size 640x480 with 1 Axes>"
      ]
     },
     "metadata": {},
     "output_type": "display_data"
    }
   ],
   "source": [
    "u = np.zeros ( nx )\n",
    "unew = np.zeros ( nx )\n",
    "init()\n",
    "fig = plt.figure()\n",
    "plt.axes(xlim=(0, 1), ylim=(-2, 2))\n",
    "plt.plot(x, u, lw=2)"
   ]
  },
  {
   "cell_type": "code",
   "execution_count": 160,
   "id": "151a24f1",
   "metadata": {},
   "outputs": [
    {
     "data": {
      "text/plain": [
       "[<matplotlib.lines.Line2D at 0x7fcd2ec71c30>]"
      ]
     },
     "execution_count": 160,
     "metadata": {},
     "output_type": "execute_result"
    },
    {
     "data": {
      "image/png": "[encoded data removed]",
      "text/plain": [
       "<Figure size 640x480 with 1 Axes>"
      ]
     },
     "metadata": {},
     "output_type": "display_data"
    }
   ],
   "source": [
    "for i in range(0,100):\n",
    "    euler_cn_2(i)\n",
    "fig = plt.figure()\n",
    "plt.axes(xlim=(0, 1), ylim=(-2, 2))\n",
    "plt.plot(x, u, lw=2)"
   ]
  },
  {
   "cell_type": "code",
   "execution_count": null,
   "id": "c1c2a38d",
   "metadata": {},
   "outputs": [],
   "source": []
  }
 ],
 "metadata": {
  "kernelspec": {
   "display_name": "Python 3 (ipykernel)",
   "language": "python",
   "name": "python3"
  },
  "language_info": {
   "codemirror_mode": {
    "name": "ipython",
    "version": 3
   },
   "file_extension": ".py",
   "mimetype": "text/x-python",
   "name": "python",
   "nbconvert_exporter": "python",
   "pygments_lexer": "ipython3",
   "version": "3.10.6"
  }
 },
 "nbformat": 4,
 "nbformat_minor": 5
}
